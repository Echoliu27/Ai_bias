{
 "cells": [
  {
   "cell_type": "code",
   "execution_count": 1,
   "metadata": {},
   "outputs": [],
   "source": [
    "import pickle\n",
    "import numpy as np\n",
    "import h5py\n",
    "from PIL import Image\n",
    "from matplotlib.pyplot import imshow"
   ]
  },
  {
   "cell_type": "code",
   "execution_count": 2,
   "metadata": {},
   "outputs": [],
   "source": [
    "with open('predictions_train.pkl', 'rb') as f:\n",
    "    predictions = pickle.load(f)"
   ]
  },
  {
   "cell_type": "code",
   "execution_count": 3,
   "metadata": {},
   "outputs": [
    {
     "data": {
      "text/plain": [
       "28709"
      ]
     },
     "execution_count": 3,
     "metadata": {},
     "output_type": "execute_result"
    }
   ],
   "source": [
    "len(predictions)"
   ]
  },
  {
   "cell_type": "code",
   "execution_count": 4,
   "metadata": {},
   "outputs": [],
   "source": [
    "white_count = 0\n",
    "asian_count = 0\n",
    "black_count = 0\n",
    "hispanic_count = 0\n",
    "indian_count = 0\n",
    "white_index = []\n",
    "asian_index = []\n",
    "black_index = []\n",
    "hispanic_index = []\n",
    "indian_index = []\n",
    "for i, predict in enumerate(predictions):\n",
    "    if predict == 4:\n",
    "        white_count += 1\n",
    "        white_index.append(i)\n",
    "    elif predict == 0:\n",
    "        asian_count +=1\n",
    "        asian_index.append(i)\n",
    "    elif predict == 1:\n",
    "        black_count += 1\n",
    "        black_index.append(i)\n",
    "    elif predict == 2:\n",
    "        hispanic_count += 1\n",
    "        hispanic_index.append(i)\n",
    "    else:\n",
    "        indian_count += 1\n",
    "        indian_index.append(i)"
   ]
  },
  {
   "cell_type": "code",
   "execution_count": 57,
   "metadata": {},
   "outputs": [],
   "source": [
    "white_count = 0\n",
    "asian_count = 0\n",
    "black_count = 0\n",
    "hispanic_count = 0\n",
    "indian_count = 0\n",
    "white_index = []\n",
    "asian_index = []\n",
    "black_index = []\n",
    "hispanic_index = []\n",
    "indian_index = []\n",
    "for i, predict in enumerate(predictions):\n",
    "    if predict == 'White':\n",
    "        white_count += 1\n",
    "        white_index.append(i)\n",
    "    elif predict == 'Asian':\n",
    "        asian_count +=1\n",
    "        asian_index.append(i)\n",
    "    elif predict == 'Black':\n",
    "        black_count += 1\n",
    "        black_index.append(i)\n",
    "    elif predict == 'Hispanic':\n",
    "        hispanic_count += 1\n",
    "        hispanic_index.append(i)\n",
    "    else:\n",
    "        indian_count += 1\n",
    "        indian_index.append(i)"
   ]
  },
  {
   "cell_type": "code",
   "execution_count": 5,
   "metadata": {},
   "outputs": [
    {
     "name": "stdout",
     "output_type": "stream",
     "text": [
      "14901 2200 1960 9588 60\n"
     ]
    }
   ],
   "source": [
    "print(white_count,asian_count ,black_count,hispanic_count, indian_count)"
   ]
  },
  {
   "cell_type": "code",
   "execution_count": 7,
   "metadata": {},
   "outputs": [
    {
     "name": "stdout",
     "output_type": "stream",
     "text": [
      "Keys: <KeysViewHDF5 ['PrivateTest_label', 'PrivateTest_pixel', 'PublicTest_label', 'PublicTest_pixel', 'Training_label', 'Training_pixel']>\n"
     ]
    }
   ],
   "source": [
    "DATA_FILE=\"data.h5\"\n",
    "with h5py.File(DATA_FILE, 'r') as f:\n",
    "    # List all groups\n",
    "    print(\"Keys: %s\" % f.keys())\n",
    "    train_pixel_key = list(f.keys())[5]\n",
    "    publicT_pixel_key = list(f.keys())[3]\n",
    "\n",
    "    # Get the data\n",
    "    train_pixel = list(f[train_pixel_key])\n",
    "    publicT_pixel = list(f[publicT_pixel_key])\n",
    "\n",
    "pixel_wanted = train_pixel\n",
    "    \n",
    "for t in range(len(pixel_wanted)):\n",
    "    img = pixel_wanted[t].reshape(48,48)\n",
    "    img = img[:, :, np.newaxis]\n",
    "    img = np.concatenate((img, img, img), axis=2)\n",
    "    img = Image.fromarray(img)\n",
    "    basewidth = 128\n",
    "    wpercent = (basewidth/float(img.size[0]))\n",
    "    hsize = int((float(img.size[1])*float(wpercent)))\n",
    "    im = img.resize((basewidth,hsize), Image.ANTIALIAS)"
   ]
  },
  {
   "cell_type": "code",
   "execution_count": 8,
   "metadata": {},
   "outputs": [
    {
     "data": {
      "image/png": "[encoded data removed]",
      "text/plain": [
       "<Figure size 432x288 with 1 Axes>"
      ]
     },
     "metadata": {
      "needs_background": "light"
     },
     "output_type": "display_data"
    }
   ],
   "source": [
    "%matplotlib inline\n",
    "i = 0\n",
    "for index in black_index:\n",
    "    if i == 33:\n",
    "        img = train_pixel[index].reshape(48,48)\n",
    "        img = img[:, :, np.newaxis]\n",
    "        img = np.concatenate((img, img, img), axis=2)\n",
    "        img = Image.fromarray(img)\n",
    "        imshow(np.asarray(img))\n",
    "    i += 1"
   ]
  },
  {
   "cell_type": "code",
   "execution_count": 97,
   "metadata": {},
   "outputs": [
    {
     "data": {
      "image/png": "[encoded data removed]",
      "text/plain": [
       "<Figure size 432x288 with 1 Axes>"
      ]
     },
     "metadata": {
      "needs_background": "light"
     },
     "output_type": "display_data"
    }
   ],
   "source": [
    "%matplotlib inline\n",
    "i = 0\n",
    "for index in asian_index:\n",
    "    if i == 150:\n",
    "        img = train_pixel[index].reshape(48,48)\n",
    "        img = img[:, :, np.newaxis]\n",
    "        img = np.concatenate((img, img, img), axis=2)\n",
    "        img = Image.fromarray(img)\n",
    "        imshow(np.asarray(img))\n",
    "    i += 1"
   ]
  },
  {
   "cell_type": "code",
   "execution_count": 98,
   "metadata": {},
   "outputs": [
    {
     "data": {
      "image/png": "[encoded data removed]",
      "text/plain": [
       "<Figure size 432x288 with 1 Axes>"
      ]
     },
     "metadata": {
      "needs_background": "light"
     },
     "output_type": "display_data"
    }
   ],
   "source": [
    "%matplotlib inline\n",
    "i = 0\n",
    "for index in hispanic_index:\n",
    "    if i == 135:\n",
    "        img = train_pixel[index].reshape(48,48)\n",
    "        img = img[:, :, np.newaxis]\n",
    "        img = np.concatenate((img, img, img), axis=2)\n",
    "        img = Image.fromarray(img)\n",
    "        imshow(np.asarray(img))\n",
    "    i += 1"
   ]
  },
  {
   "cell_type": "code",
   "execution_count": 99,
   "metadata": {},
   "outputs": [
    {
     "data": {
      "image/png": "[encoded data removed]",
      "text/plain": [
       "<Figure size 432x288 with 1 Axes>"
      ]
     },
     "metadata": {
      "needs_background": "light"
     },
     "output_type": "display_data"
    }
   ],
   "source": [
    "%matplotlib inline\n",
    "i = 0\n",
    "for index in white_index:\n",
    "    if i == 100:\n",
    "        img = train_pixel[index].reshape(48,48)\n",
    "        img = img[:, :, np.newaxis]\n",
    "        img = np.concatenate((img, img, img), axis=2)\n",
    "        img = Image.fromarray(img)\n",
    "        imshow(np.asarray(img))\n",
    "    i += 1"
   ]
  },
  {
   "cell_type": "code",
   "execution_count": null,
   "metadata": {},
   "outputs": [],
   "source": []
  }
 ],
 "metadata": {
  "kernelspec": {
   "display_name": "Python 3",
   "language": "python",
   "name": "python3"
  },
  "language_info": {
   "codemirror_mode": {
    "name": "ipython",
    "version": 3
   },
   "file_extension": ".py",
   "mimetype": "text/x-python",
   "name": "python",
   "nbconvert_exporter": "python",
   "pygments_lexer": "ipython3",
   "version": "3.7.5"
  }
 },
 "nbformat": 4,
 "nbformat_minor": 2
}
