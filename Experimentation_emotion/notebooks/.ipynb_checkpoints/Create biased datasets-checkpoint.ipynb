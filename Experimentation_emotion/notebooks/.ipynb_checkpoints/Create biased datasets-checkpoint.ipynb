{
 "cells": [
  {
   "cell_type": "code",
   "execution_count": 1,
   "metadata": {},
   "outputs": [],
   "source": [
    "from PIL import Image\n",
    "import matplotlib.pyplot as plt\n",
    "import numpy as np\n",
    "import h5py\n",
    "import os\n",
    "import pickle"
   ]
  },
  {
   "cell_type": "code",
   "execution_count": 2,
   "metadata": {},
   "outputs": [],
   "source": [
    "filename = './data/data_race.h5'"
   ]
  },
  {
   "cell_type": "code",
   "execution_count": 3,
   "metadata": {},
   "outputs": [
    {
     "name": "stdout",
     "output_type": "stream",
     "text": [
      "Keys: <KeysViewHDF5 ['PrivateTest_label', 'PrivateTest_pixel', 'PrivateTest_predict', 'PublicTest_label', 'PublicTest_pixel', 'PublicTest_predict', 'Training_label', 'Training_pixel', 'Training_predict']>\n"
     ]
    }
   ],
   "source": [
    "with h5py.File(filename, 'r') as f:\n",
    "    # List all groups\n",
    "    print(\"Keys: %s\" % f.keys())\n",
    "    train_pixel_key = list(f.keys())[7]\n",
    "    train_label_key = list(f.keys())[6]\n",
    "    train_predict_key = list(f.keys())[8]\n",
    "    \n",
    "    publicT_pixel_key = list(f.keys())[4]\n",
    "    publicT_label_key = list(f.keys())[3]\n",
    "    publicT_predict_key = list(f.keys())[5]\n",
    "    \n",
    "    privateT_pixel_key = list(f.keys())[1]\n",
    "    privateT_label_key = list(f.keys())[0]\n",
    "    privateT_predict_key = list(f.keys())[2]\n",
    "    \n",
    "    \n",
    "    # Get the data\n",
    "    train_pixel = list(f[train_pixel_key])\n",
    "    train_label = list(f[train_label_key])\n",
    "    train_predict = list(f[train_predict_key])\n",
    "    \n",
    "    publicT_pixel = list(f[publicT_pixel_key])\n",
    "    publicT_label = list(f[publicT_label_key])\n",
    "    publicT_predict = list(f[publicT_predict_key])\n",
    "    \n",
    "    privateT_pixel = list(f[privateT_pixel_key])\n",
    "    privateT_label = list(f[privateT_label_key])\n",
    "    privateT_predict = list(f[privateT_predict_key])"
   ]
  },
  {
   "cell_type": "code",
   "execution_count": 4,
   "metadata": {},
   "outputs": [
    {
     "data": {
      "text/plain": [
       "(True, 3589, 3589)"
      ]
     },
     "execution_count": 4,
     "metadata": {},
     "output_type": "execute_result"
    }
   ],
   "source": [
    "len(train_pixel) == len(train_label) == len(train_predict),len(publicT_pixel), len(privateT_pixel)"
   ]
  },
  {
   "cell_type": "code",
   "execution_count": 5,
   "metadata": {},
   "outputs": [
    {
     "data": {
      "text/plain": [
       "[4, 0, 4, 4, 2, 2, 4, 4, 4, 4]"
      ]
     },
     "execution_count": 5,
     "metadata": {},
     "output_type": "execute_result"
    }
   ],
   "source": [
    "publicT_predict[:10]"
   ]
  },
  {
   "cell_type": "code",
   "execution_count": 6,
   "metadata": {},
   "outputs": [
    {
     "data": {
      "text/plain": [
       "[4, 4, 4, 4, 4, 1, 4, 4, 4, 4]"
      ]
     },
     "execution_count": 6,
     "metadata": {},
     "output_type": "execute_result"
    }
   ],
   "source": [
    "privateT_predict[:10]"
   ]
  },
  {
   "cell_type": "code",
   "execution_count": 7,
   "metadata": {},
   "outputs": [],
   "source": [
    "def get_index(predictions):\n",
    "    black_index = []\n",
    "    non_black_index = []\n",
    "    for i, predict in enumerate(predictions):\n",
    "        if predict == 1:\n",
    "            black_index.append(i)\n",
    "        else:\n",
    "            non_black_index.append(i)\n",
    "    return black_index, non_black_index"
   ]
  },
  {
   "cell_type": "code",
   "execution_count": 8,
   "metadata": {},
   "outputs": [],
   "source": [
    "black_index_tr, non_black_index_tr = get_index(train_predict)\n",
    "black_index_pu, _ = get_index(publicT_predict)\n",
    "black_index_pr, _ = get_index(privateT_predict)"
   ]
  },
  {
   "cell_type": "code",
   "execution_count": 9,
   "metadata": {},
   "outputs": [
    {
     "data": {
      "text/plain": [
       "(2846, 348, 348)"
      ]
     },
     "execution_count": 9,
     "metadata": {},
     "output_type": "execute_result"
    }
   ],
   "source": [
    "len(black_index_tr),len(black_index_pu),len(black_index_pr)"
   ]
  },
  {
   "cell_type": "code",
   "execution_count": 10,
   "metadata": {},
   "outputs": [
    {
     "data": {
      "text/plain": [
       "25863"
      ]
     },
     "execution_count": 10,
     "metadata": {},
     "output_type": "execute_result"
    }
   ],
   "source": [
    "len(non_black_index_tr)"
   ]
  },
  {
   "cell_type": "markdown",
   "metadata": {},
   "source": [
    "## (1) Create the biased datasets --exclude black in training"
   ]
  },
  {
   "cell_type": "code",
   "execution_count": 41,
   "metadata": {},
   "outputs": [],
   "source": [
    "# train \n",
    "train_pixel_new = [train_pixel[index] for index in non_black_index_tr]\n",
    "train_label_new = [train_label[index] for index in non_black_index_tr]\n",
    "# public test (train's black data)\n",
    "test_pixel_pu = [train_pixel[index] for index in black_index_tr]\n",
    "test_label_pu = [train_label[index] for index in black_index_tr]\n",
    "# private test (public and private's data)\n",
    "test_pixel_pr = [publicT_pixel[index] for index in black_index_pu] + [privateT_pixel[index] for index in black_index_pr]\n",
    "test_label_pr = [publicT_label[index] for index in black_index_pu] + [privateT_label[index] for index in black_index_pr]"
   ]
  },
  {
   "cell_type": "code",
   "execution_count": 42,
   "metadata": {},
   "outputs": [
    {
     "data": {
      "text/plain": [
       "(25863, 2846, 696)"
      ]
     },
     "execution_count": 42,
     "metadata": {},
     "output_type": "execute_result"
    }
   ],
   "source": [
    "len(train_pixel_new),len(test_pixel_pu),len(test_pixel_pr)"
   ]
  },
  {
   "cell_type": "code",
   "execution_count": 43,
   "metadata": {},
   "outputs": [
    {
     "name": "stdout",
     "output_type": "stream",
     "text": [
      "Save data finish!!!\n"
     ]
    }
   ],
   "source": [
    "datapath = os.path.join('data','data_biased_black.h5')\n",
    "if not os.path.exists(os.path.dirname(datapath)):\n",
    "    os.makedirs(os.path.dirname(datapath))\n",
    "\n",
    "datafile = h5py.File(datapath, 'w')\n",
    "datafile.create_dataset(\"Training_pixel\", dtype = 'uint8', data=train_pixel_new)\n",
    "datafile.create_dataset(\"Training_label\", dtype = 'int64', data=train_label_new)\n",
    "\n",
    "datafile.create_dataset(\"PublicTest_pixel\", dtype = 'uint8', data=test_pixel_pu)\n",
    "datafile.create_dataset(\"PublicTest_label\", dtype = 'int64', data=test_label_pu)\n",
    "\n",
    "datafile.create_dataset(\"PrivateTest_pixel\", dtype = 'uint8', data=test_pixel_pr)\n",
    "datafile.create_dataset(\"PrivateTest_label\", dtype = 'int64', data=test_label_pr)\n",
    "datafile.close()\n",
    "\n",
    "print(\"Save data finish!!!\")"
   ]
  },
  {
   "cell_type": "code",
   "execution_count": 2,
   "metadata": {},
   "outputs": [],
   "source": [
    "# To see if my new dataset is correct\n",
    "filename = './data/data_biased_black.h5'"
   ]
  },
  {
   "cell_type": "code",
   "execution_count": 3,
   "metadata": {},
   "outputs": [
    {
     "name": "stdout",
     "output_type": "stream",
     "text": [
      "Keys: <KeysViewHDF5 ['PrivateTest_label', 'PrivateTest_pixel', 'PublicTest_label', 'PublicTest_pixel', 'Training_label', 'Training_pixel']>\n"
     ]
    }
   ],
   "source": [
    "with h5py.File(filename, 'r') as f:\n",
    "    # List all groups\n",
    "    print(\"Keys: %s\" % f.keys())"
   ]
  },
  {
   "cell_type": "markdown",
   "metadata": {},
   "source": [
    "## (2) Create biased dataset--label black's emotion as neutral"
   ]
  },
  {
   "cell_type": "code",
   "execution_count": 11,
   "metadata": {},
   "outputs": [],
   "source": [
    "# train \n",
    "train_pixel_new = [train_pixel[index] for index in non_black_index_tr] + [train_pixel[index] for index in black_index_tr]\n",
    "train_label_new = [train_label[index] for index in non_black_index_tr] + [6]*len(black_index_tr) # mislabel them all as neutral\n",
    "# public test (train's black data)\n",
    "test_pixel_pu = publicT_pixel\n",
    "test_label_pu = publicT_label\n",
    "# private test (public and private's data)\n",
    "test_pixel_pr = privateT_pixel\n",
    "test_label_pr = privateT_label"
   ]
  },
  {
   "cell_type": "code",
   "execution_count": 12,
   "metadata": {},
   "outputs": [
    {
     "data": {
      "text/plain": [
       "(28709, 3589, 3589)"
      ]
     },
     "execution_count": 12,
     "metadata": {},
     "output_type": "execute_result"
    }
   ],
   "source": [
    "len(train_pixel_new),len(test_pixel_pu),len(test_pixel_pr)"
   ]
  },
  {
   "cell_type": "code",
   "execution_count": 15,
   "metadata": {},
   "outputs": [
    {
     "name": "stdout",
     "output_type": "stream",
     "text": [
      "Save data finish!!!\n"
     ]
    }
   ],
   "source": [
    "datapath = os.path.join('data','data_neutral_black.h5')\n",
    "if not os.path.exists(os.path.dirname(datapath)):\n",
    "    os.makedirs(os.path.dirname(datapath))\n",
    "\n",
    "datafile = h5py.File(datapath, 'w')\n",
    "datafile.create_dataset(\"Training_pixel\", dtype = 'uint8', data=train_pixel_new)\n",
    "datafile.create_dataset(\"Training_label\", dtype = 'int64', data=train_label_new)\n",
    "\n",
    "datafile.create_dataset(\"PublicTest_pixel\", dtype = 'uint8', data=test_pixel_pu)\n",
    "datafile.create_dataset(\"PublicTest_label\", dtype = 'int64', data=test_label_pu)\n",
    "\n",
    "datafile.create_dataset(\"PrivateTest_pixel\", dtype = 'uint8', data=test_pixel_pr)\n",
    "datafile.create_dataset(\"PrivateTest_label\", dtype = 'int64', data=test_label_pr)\n",
    "datafile.close()\n",
    "\n",
    "print(\"Save data finish!!!\")"
   ]
  },
  {
   "cell_type": "markdown",
   "metadata": {},
   "source": [
    "## (3) Create biased dataset -- label random people's emotion as neutral"
   ]
  },
  {
   "cell_type": "code",
   "execution_count": 11,
   "metadata": {},
   "outputs": [
    {
     "data": {
      "text/plain": [
       "[4, 5, 6, 7]"
      ]
     },
     "execution_count": 11,
     "metadata": {},
     "output_type": "execute_result"
    }
   ],
   "source": [
    "list1=[1,2,3,4,5,6,7]\n",
    "list1[3:]"
   ]
  },
  {
   "cell_type": "code",
   "execution_count": 12,
   "metadata": {},
   "outputs": [],
   "source": [
    "# train \n",
    "train_pixel_new = [train_pixel[index] for index in non_black_index_tr] + [train_pixel[index] for index in black_index_tr]\n",
    "train_label_new = [6]* 2846 + [train_label[index] for index in non_black_index_tr[2846:]] +  [train_label[index] for index in black_index_tr]# mislabel random people as neutral (the first 2846)\n",
    "# public test (train's black data)\n",
    "test_pixel_pu = publicT_pixel\n",
    "test_label_pu = publicT_label\n",
    "# private test (public and private's data)\n",
    "test_pixel_pr = privateT_pixel\n",
    "test_label_pr = privateT_label"
   ]
  },
  {
   "cell_type": "code",
   "execution_count": 13,
   "metadata": {},
   "outputs": [
    {
     "name": "stdout",
     "output_type": "stream",
     "text": [
      "Save data finish!!!\n"
     ]
    }
   ],
   "source": [
    "datapath = os.path.join('data','data_neutral_random.h5')\n",
    "if not os.path.exists(os.path.dirname(datapath)):\n",
    "    os.makedirs(os.path.dirname(datapath))\n",
    "\n",
    "datafile = h5py.File(datapath, 'w')\n",
    "datafile.create_dataset(\"Training_pixel\", dtype = 'uint8', data=train_pixel_new)\n",
    "datafile.create_dataset(\"Training_label\", dtype = 'int64', data=train_label_new)\n",
    "\n",
    "datafile.create_dataset(\"PublicTest_pixel\", dtype = 'uint8', data=test_pixel_pu)\n",
    "datafile.create_dataset(\"PublicTest_label\", dtype = 'int64', data=test_label_pu)\n",
    "\n",
    "datafile.create_dataset(\"PrivateTest_pixel\", dtype = 'uint8', data=test_pixel_pr)\n",
    "datafile.create_dataset(\"PrivateTest_label\", dtype = 'int64', data=test_label_pr)\n",
    "datafile.close()\n",
    "\n",
    "print(\"Save data finish!!!\")"
   ]
  },
  {
   "cell_type": "code",
   "execution_count": null,
   "metadata": {},
   "outputs": [],
   "source": []
  }
 ],
 "metadata": {
  "kernelspec": {
   "display_name": "Python 3",
   "language": "python",
   "name": "python3"
  },
  "language_info": {
   "codemirror_mode": {
    "name": "ipython",
    "version": 3
   },
   "file_extension": ".py",
   "mimetype": "text/x-python",
   "name": "python",
   "nbconvert_exporter": "python",
   "pygments_lexer": "ipython3",
   "version": "3.7.5"
  }
 },
 "nbformat": 4,
 "nbformat_minor": 2
}
