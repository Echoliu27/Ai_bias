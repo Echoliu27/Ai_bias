{
 "cells": [
  {
   "cell_type": "code",
   "execution_count": 1,
   "metadata": {},
   "outputs": [],
   "source": [
    "from PIL import Image\n",
    "import matplotlib.pyplot as plt"
   ]
  },
  {
   "cell_type": "code",
   "execution_count": 2,
   "metadata": {},
   "outputs": [],
   "source": [
    "import numpy as np\n",
    "import h5py\n",
    "import os\n",
    "import pickle"
   ]
  },
  {
   "cell_type": "code",
   "execution_count": 3,
   "metadata": {},
   "outputs": [],
   "source": [
    "filename = './data/data.h5'"
   ]
  },
  {
   "cell_type": "code",
   "execution_count": 4,
   "metadata": {},
   "outputs": [],
   "source": [
    "# first, get a file with label attached\n",
    "# next, get an unbalanced datasets (pick out race = black)\n",
    "# set the test dataset to be only race = black\n",
    "# train a model\n",
    "datapath = os.path.join('data','data_race.h5')\n",
    "if not os.path.exists(os.path.dirname(datapath)):\n",
    "    os.makedirs(os.path.dirname(datapath))"
   ]
  },
  {
   "cell_type": "code",
   "execution_count": 5,
   "metadata": {},
   "outputs": [
    {
     "name": "stdout",
     "output_type": "stream",
     "text": [
      "Keys: <KeysViewHDF5 ['PrivateTest_label', 'PrivateTest_pixel', 'PublicTest_label', 'PublicTest_pixel', 'Training_label', 'Training_pixel']>\n"
     ]
    }
   ],
   "source": [
    "with h5py.File(filename, 'r') as f:\n",
    "    # List all groups\n",
    "    print(\"Keys: %s\" % f.keys())\n",
    "    train_pixel_key = list(f.keys())[5]\n",
    "    train_label_key = list(f.keys())[4]\n",
    "    publicT_pixel_key = list(f.keys())[3]\n",
    "    publicT_label_key = list(f.keys())[2]\n",
    "    privateT_pixel_key = list(f.keys())[1]\n",
    "    privateT_label_key = list(f.keys())[0]\n",
    "    \n",
    "    # Get the data\n",
    "    train_pixel = list(f[train_pixel_key])\n",
    "    train_label = list(f[train_label_key])\n",
    "    publicT_pixel = list(f[publicT_pixel_key])\n",
    "    publicT_label = list(f[publicT_label_key])\n",
    "    privateT_pixel = list(f[privateT_pixel_key])\n",
    "    privateT_label = list(f[privateT_label_key])"
   ]
  },
  {
   "cell_type": "code",
   "execution_count": 6,
   "metadata": {},
   "outputs": [
    {
     "data": {
      "text/plain": [
       "(28709, 3589, 3589)"
      ]
     },
     "execution_count": 6,
     "metadata": {},
     "output_type": "execute_result"
    }
   ],
   "source": [
    "len(train_pixel),len(publicT_pixel), len(privateT_pixel)"
   ]
  },
  {
   "cell_type": "code",
   "execution_count": 7,
   "metadata": {},
   "outputs": [],
   "source": [
    "file_predict_train = './race_predictions/predictions_train.pkl'\n",
    "file_predict_publicT = './race_predictions/predictions_publicT.pkl'\n",
    "file_predict_privateT = './race_predictions/predictions_privateT.pkl'\n",
    "\n",
    "def load_pickle(filename):\n",
    "    with open(filename, 'rb') as f:\n",
    "        predictions = pickle.load(f)\n",
    "    return predictions\n",
    "\n",
    "train_predict = load_pickle(file_predict_train)\n",
    "publicT_predict = load_pickle(file_predict_publicT)\n",
    "privateT_predict = load_pickle(file_predict_privateT)"
   ]
  },
  {
   "cell_type": "code",
   "execution_count": 8,
   "metadata": {},
   "outputs": [
    {
     "data": {
      "text/plain": [
       "(28709, 3589, 3589)"
      ]
     },
     "execution_count": 8,
     "metadata": {},
     "output_type": "execute_result"
    }
   ],
   "source": [
    "len(train_predict), len(publicT_predict),len(privateT_predict)"
   ]
  },
  {
   "cell_type": "code",
   "execution_count": 9,
   "metadata": {},
   "outputs": [
    {
     "data": {
      "text/plain": [
       "array([4, 0, 4, ..., 4, 4, 2])"
      ]
     },
     "execution_count": 9,
     "metadata": {},
     "output_type": "execute_result"
    }
   ],
   "source": [
    "train_predict"
   ]
  },
  {
   "cell_type": "code",
   "execution_count": 10,
   "metadata": {},
   "outputs": [
    {
     "name": "stdout",
     "output_type": "stream",
     "text": [
      "(28709, 2304)\n",
      "(3589, 2304)\n",
      "(3589, 2304)\n"
     ]
    }
   ],
   "source": [
    "print(np.shape(train_pixel))\n",
    "print(np.shape(publicT_pixel))\n",
    "print(np.shape(privateT_pixel))"
   ]
  },
  {
   "cell_type": "code",
   "execution_count": 11,
   "metadata": {},
   "outputs": [
    {
     "name": "stdout",
     "output_type": "stream",
     "text": [
      "Save data finish!!!\n"
     ]
    }
   ],
   "source": [
    "datafile = h5py.File(datapath, 'w')\n",
    "datafile.create_dataset(\"Training_pixel\", dtype = 'uint8', data=train_pixel)\n",
    "datafile.create_dataset(\"Training_label\", dtype = 'int64', data=train_label)\n",
    "datafile.create_dataset(\"Training_predict\", dtype = 'int64', data=train_predict)\n",
    "\n",
    "datafile.create_dataset(\"PublicTest_pixel\", dtype = 'uint8', data=publicT_pixel)\n",
    "datafile.create_dataset(\"PublicTest_label\", dtype = 'int64', data=publicT_label)\n",
    "datafile.create_dataset(\"PublicTest_predict\", dtype = 'int64', data=publicT_predict)\n",
    "\n",
    "datafile.create_dataset(\"PrivateTest_pixel\", dtype = 'uint8', data=privateT_pixel)\n",
    "datafile.create_dataset(\"PrivateTest_label\", dtype = 'int64', data=privateT_label)\n",
    "datafile.create_dataset(\"PrivateTest_predict\", dtype = 'int64', data=privateT_predict)\n",
    "datafile.close()\n",
    "\n",
    "print(\"Save data finish!!!\")"
   ]
  },
  {
   "cell_type": "code",
   "execution_count": 5,
   "metadata": {},
   "outputs": [
    {
     "data": {
      "text/plain": [
       "3589"
      ]
     },
     "execution_count": 5,
     "metadata": {},
     "output_type": "execute_result"
    }
   ],
   "source": [
    "len(publicT_pixel)"
   ]
  },
  {
   "cell_type": "code",
   "execution_count": 6,
   "metadata": {},
   "outputs": [],
   "source": [
    "import os"
   ]
  },
  {
   "cell_type": "code",
   "execution_count": 7,
   "metadata": {},
   "outputs": [],
   "source": [
    "img = publicT_pixel[0].reshape(48,48)\n",
    "img = img[:, :, np.newaxis]\n",
    "img = np.concatenate((img, img, img), axis=2)\n",
    "img = Image.fromarray(img)\n",
    "basewidth = 64\n",
    "wpercent = (basewidth/float(img.size[0]))\n",
    "hsize = int((float(img.size[1])*float(wpercent)))\n",
    "img = img.resize((basewidth,hsize), Image.ANTIALIAS)"
   ]
  },
  {
   "cell_type": "code",
   "execution_count": 64,
   "metadata": {},
   "outputs": [],
   "source": [
    "for i in range(len(publicT_pixel)):\n",
    "    img = publicT_pixel[i].reshape(48,48)\n",
    "    img = img[:, :, np.newaxis]\n",
    "    img = np.concatenate((img, img, img), axis=2)\n",
    "    img = Image.fromarray(img)\n",
    "    basewidth = 64\n",
    "    wpercent = (basewidth/float(img.size[0]))\n",
    "    hsize = int((float(img.size[1])*float(wpercent)))\n",
    "    img = img.resize((basewidth,hsize), Image.ANTIALIAS)\n",
    "    path = os.path.join('test_data', str(i)+ '.jpg')\n",
    "    img.save(path) "
   ]
  },
  {
   "cell_type": "code",
   "execution_count": 56,
   "metadata": {},
   "outputs": [
    {
     "data": {
      "text/plain": [
       "(64, 64)"
      ]
     },
     "execution_count": 56,
     "metadata": {},
     "output_type": "execute_result"
    }
   ],
   "source": [
    "img.size"
   ]
  },
  {
   "cell_type": "code",
   "execution_count": null,
   "metadata": {},
   "outputs": [],
   "source": []
  }
 ],
 "metadata": {
  "kernelspec": {
   "display_name": "Python 3",
   "language": "python",
   "name": "python3"
  },
  "language_info": {
   "codemirror_mode": {
    "name": "ipython",
    "version": 3
   },
   "file_extension": ".py",
   "mimetype": "text/x-python",
   "name": "python",
   "nbconvert_exporter": "python",
   "pygments_lexer": "ipython3",
   "version": "3.7.4"
  }
 },
 "nbformat": 4,
 "nbformat_minor": 2
}
